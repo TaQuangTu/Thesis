{
  "nbformat": 4,
  "nbformat_minor": 0,
  "metadata": {
    "colab": {
      "name": "KLTN_Demo.ipynb",
      "provenance": []
    },
    "kernelspec": {
      "name": "python3",
      "display_name": "Python 3"
    },
    "accelerator": "GPU"
  },
  "cells": [
    {
      "cell_type": "code",
      "metadata": {
        "id": "M0YRTetJ0xI1",
        "colab_type": "code",
        "colab": {}
      },
      "source": [
        "#clone \"easy to run\" source code from my github\n",
        "!git clone https://github.com/TaQuangTu/Thesis"
      ],
      "execution_count": null,
      "outputs": []
    },
    {
      "cell_type": "code",
      "metadata": {
        "id": "yK2z1h562JAL",
        "colab_type": "code",
        "colab": {}
      },
      "source": [
        "#install dependences\n",
        "%cd /content/Thesis/\n",
        "!pip install -r requirements.txt"
      ],
      "execution_count": null,
      "outputs": []
    },
    {
      "cell_type": "code",
      "metadata": {
        "id": "VG9HUPlh04qn",
        "colab_type": "code",
        "colab": {}
      },
      "source": [
        "#run SID\n",
        "%cd /content/Thesis/LSID/MyOwn\n",
        "!python test_multi_files.py"
      ],
      "execution_count": null,
      "outputs": []
    },
    {
      "cell_type": "code",
      "metadata": {
        "id": "9iVnlEM_5-50",
        "colab_type": "code",
        "colab": {}
      },
      "source": [
        "#run EnlightenGAN\n",
        "%cd /content/Thesis/EnlightGAN/EnlightenGAN2\n",
        "%rm -r test_dataset/testA\n",
        "%mkdir test_dataset/testA\n",
        "%cp ../../TestImages/* test_dataset/testA/\n",
        "!python scripts/script.py --predict\n",
        "%mv TestResults/* ../../TestResults/\n",
        "%rm -r TestResults"
      ],
      "execution_count": null,
      "outputs": []
    },
    {
      "cell_type": "code",
      "metadata": {
        "id": "kMsWGTW-DzPx",
        "colab_type": "code",
        "colab": {}
      },
      "source": [
        "%cd /content/Thesis\n",
        "\n",
        "from PIL import Image # Image manipulations\n",
        "import matplotlib.pyplot as plt\n",
        "%matplotlib inline\n",
        "import os\n",
        "\n",
        "\n",
        "#show result\n",
        "for image_path in os.listdir(\"TestResults\"):\n",
        "  image_path = os.path.join(\"TestResults\",image_path)\n",
        "  # Open the image to show it in the first column of the plot \n",
        "  image = Image.open(image_path)  \n",
        "  # Create the figure \n",
        "  fig = plt.figure(figsize=(50,5))\n",
        "  ax = fig.add_subplot(1, 1, 1) \n",
        "  # Plot the image in the first axe with it's category name\n",
        "  ax.axis('off')\n",
        "  ax.set_title(image_path)\n",
        "  ax.imshow(image) \n"
      ],
      "execution_count": null,
      "outputs": []
    }
  ]
}